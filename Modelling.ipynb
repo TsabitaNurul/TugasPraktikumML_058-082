{
  "nbformat": 4,
  "nbformat_minor": 0,
  "metadata": {
    "colab": {
      "name": "Modelling.ipynb",
      "provenance": []
    },
    "kernelspec": {
      "name": "python3",
      "display_name": "Python 3"
    },
    "language_info": {
      "name": "python"
    }
  },
  "cells": [
    {
      "cell_type": "code",
      "metadata": {
        "colab": {
          "base_uri": "https://localhost:8080/"
        },
        "id": "wNUn3kHs2giy",
        "outputId": "8cf99ba8-14c2-46ca-dd91-37ed5ffb34f7"
      },
      "source": [
        "from tensorflow.keras import layers\n",
        "from tensorflow.keras import Model\n",
        "from tensorflow.keras.models import Sequential\n",
        "from tensorflow.keras.layers import Conv2D, MaxPooling2D, GlobalMaxPooling2D, Flatten, Dense\n",
        "\n",
        "# Pooling 2D\n",
        "model = Sequential()\n",
        "model.add(Conv2D(filters = 32, kernel_size=(3, 3), input_shape = (100, 100, 3), activation = 'relu')),\n",
        "model.add(MaxPooling2D(pool_size=(2,2))),\n",
        "\n",
        "# Global Pooling 2D\n",
        "model.add(Conv2D(filters = 32, kernel_size=(3, 3), activation = 'relu')),\n",
        "model.add(GlobalMaxPooling2D(input_shape=(100, 100, 3)))\n",
        "\n",
        "model.add(Flatten()),\n",
        "model.add(Dense(128, activation='relu')), \n",
        "model.add(Dense(10, activation='relu')),\n",
        "model.add(Dense(1,activation='sigmoid'))\n",
        "\n",
        "model.summary()"
      ],
      "execution_count": 20,
      "outputs": [
        {
          "output_type": "stream",
          "name": "stdout",
          "text": [
            "Model: \"sequential\"\n",
            "_________________________________________________________________\n",
            "Layer (type)                 Output Shape              Param #   \n",
            "=================================================================\n",
            "conv2d (Conv2D)              (None, 98, 98, 32)        896       \n",
            "_________________________________________________________________\n",
            "max_pooling2d (MaxPooling2D) (None, 49, 49, 32)        0         \n",
            "_________________________________________________________________\n",
            "conv2d_1 (Conv2D)            (None, 47, 47, 32)        9248      \n",
            "_________________________________________________________________\n",
            "global_max_pooling2d (Global (None, 32)                0         \n",
            "_________________________________________________________________\n",
            "flatten (Flatten)            (None, 32)                0         \n",
            "_________________________________________________________________\n",
            "dense (Dense)                (None, 128)               4224      \n",
            "_________________________________________________________________\n",
            "dense_1 (Dense)              (None, 10)                1290      \n",
            "_________________________________________________________________\n",
            "dense_2 (Dense)              (None, 1)                 11        \n",
            "=================================================================\n",
            "Total params: 15,669\n",
            "Trainable params: 15,669\n",
            "Non-trainable params: 0\n",
            "_________________________________________________________________\n"
          ]
        }
      ]
    },
    {
      "cell_type": "code",
      "metadata": {
        "colab": {
          "base_uri": "https://localhost:8080/"
        },
        "id": "bLgSkMUU2rTB",
        "outputId": "b4d0312f-3956-483d-a65a-afdda371c7b0"
      },
      "source": [
        "# Hasil pengerjaan point 3.2\n",
        "from tensorflow.keras.optimizers import Adam\n",
        "\n",
        "# Compile model\n",
        "model.compile(loss='binary_crossentropy',\n",
        "              optimizer=Adam(lr=0.0001),\n",
        "              metrics=['acc'])\n",
        "H1 = model.fit(x_train, y_train, batch_size=32, epochs=10, validation_data=(x_val, y_val))"
      ],
      "execution_count": 21,
      "outputs": [
        {
          "output_type": "stream",
          "name": "stderr",
          "text": [
            "/usr/local/lib/python3.7/dist-packages/keras/optimizer_v2/optimizer_v2.py:356: UserWarning: The `lr` argument is deprecated, use `learning_rate` instead.\n",
            "  \"The `lr` argument is deprecated, use `learning_rate` instead.\")\n"
          ]
        },
        {
          "output_type": "stream",
          "name": "stdout",
          "text": [
            "Epoch 1/10\n",
            "603/603 [==============================] - 205s 339ms/step - loss: 0.6901 - acc: 0.5434 - val_loss: 0.6820 - val_acc: 0.6001\n",
            "Epoch 2/10\n",
            "603/603 [==============================] - 204s 339ms/step - loss: 0.4202 - acc: 0.8239 - val_loss: 0.1880 - val_acc: 0.9353\n",
            "Epoch 3/10\n",
            "603/603 [==============================] - 204s 339ms/step - loss: 0.1763 - acc: 0.9399 - val_loss: 0.1747 - val_acc: 0.9363\n",
            "Epoch 4/10\n",
            "603/603 [==============================] - 204s 339ms/step - loss: 0.1685 - acc: 0.9440 - val_loss: 0.1661 - val_acc: 0.9401\n",
            "Epoch 5/10\n",
            "603/603 [==============================] - 204s 339ms/step - loss: 0.1608 - acc: 0.9468 - val_loss: 0.1572 - val_acc: 0.9445\n",
            "Epoch 6/10\n",
            "603/603 [==============================] - 204s 338ms/step - loss: 0.1544 - acc: 0.9496 - val_loss: 0.1501 - val_acc: 0.9475\n",
            "Epoch 7/10\n",
            "603/603 [==============================] - 204s 338ms/step - loss: 0.1480 - acc: 0.9517 - val_loss: 0.1443 - val_acc: 0.9516\n",
            "Epoch 8/10\n",
            "603/603 [==============================] - 204s 339ms/step - loss: 0.1433 - acc: 0.9539 - val_loss: 0.1422 - val_acc: 0.9534\n",
            "Epoch 9/10\n",
            "603/603 [==============================] - 204s 339ms/step - loss: 0.1396 - acc: 0.9543 - val_loss: 0.1356 - val_acc: 0.9556\n",
            "Epoch 10/10\n",
            "603/603 [==============================] - 204s 339ms/step - loss: 0.1379 - acc: 0.9548 - val_loss: 0.1359 - val_acc: 0.9559\n"
          ]
        }
      ]
    },
    {
      "cell_type": "code",
      "metadata": {
        "colab": {
          "base_uri": "https://localhost:8080/"
        },
        "id": "52VS3WZf2rfr",
        "outputId": "11184bb0-5414-4e79-968d-0f197d8528b0"
      },
      "source": [
        "# Hasil pengerjaan point 4.2\n",
        "from sklearn.metrics import classification_report\n",
        "\n",
        "pred1 = model.predict(x_val)\n",
        "labels = (pred1 > 0.5).astype(np.int)\n",
        "\n",
        "print(classification_report(y_val, labels))"
      ],
      "execution_count": 22,
      "outputs": [
        {
          "output_type": "stream",
          "name": "stdout",
          "text": [
            "              precision    recall  f1-score   support\n",
            "\n",
            "           0       0.96      0.95      0.96      4134\n",
            "           1       0.95      0.96      0.96      4134\n",
            "\n",
            "    accuracy                           0.96      8268\n",
            "   macro avg       0.96      0.96      0.96      8268\n",
            "weighted avg       0.96      0.96      0.96      8268\n",
            "\n"
          ]
        }
      ]
    },
    {
      "cell_type": "code",
      "metadata": {
        "colab": {
          "base_uri": "https://localhost:8080/"
        },
        "id": "lXS5o6yY2rne",
        "outputId": "3a61b3a9-a88c-4e3a-e7df-f320eb6af753"
      },
      "source": [
        "from tensorflow.keras import layers\n",
        "from tensorflow.keras import Model\n",
        "from tensorflow.keras.models import Sequential\n",
        "from tensorflow.keras.layers import Conv2D, AveragePooling2D, GlobalAveragePooling2D, Flatten, Dense\n",
        "\n",
        "# Average Pooling 2D\n",
        "model2 = Sequential()\n",
        "model2.add(Conv2D(filters = 32, kernel_size=(3, 3), input_shape = (100, 100, 3), activation = 'relu')),\n",
        "model2.add(AveragePooling2D(pool_size=(2,2))),\n",
        "\n",
        "# Average Global Pooling 2D\n",
        "model2.add(Conv2D(filters = 32, kernel_size=(3, 3), activation = 'relu')),\n",
        "model2.add(GlobalAveragePooling2D(input_shape=(100, 100, 3)))\n",
        "\n",
        "model2.add(Flatten()),\n",
        "model2.add(Dense(128, activation='relu')), \n",
        "model2.add(Dense(10, activation='relu')),\n",
        "model2.add(Dense(1,activation='sigmoid'))\n",
        "\n",
        "model2.summary()"
      ],
      "execution_count": 23,
      "outputs": [
        {
          "output_type": "stream",
          "name": "stdout",
          "text": [
            "Model: \"sequential_1\"\n",
            "_________________________________________________________________\n",
            "Layer (type)                 Output Shape              Param #   \n",
            "=================================================================\n",
            "conv2d_2 (Conv2D)            (None, 98, 98, 32)        896       \n",
            "_________________________________________________________________\n",
            "average_pooling2d (AveragePo (None, 49, 49, 32)        0         \n",
            "_________________________________________________________________\n",
            "conv2d_3 (Conv2D)            (None, 47, 47, 32)        9248      \n",
            "_________________________________________________________________\n",
            "global_average_pooling2d (Gl (None, 32)                0         \n",
            "_________________________________________________________________\n",
            "flatten_1 (Flatten)          (None, 32)                0         \n",
            "_________________________________________________________________\n",
            "dense_3 (Dense)              (None, 128)               4224      \n",
            "_________________________________________________________________\n",
            "dense_4 (Dense)              (None, 10)                1290      \n",
            "_________________________________________________________________\n",
            "dense_5 (Dense)              (None, 1)                 11        \n",
            "=================================================================\n",
            "Total params: 15,669\n",
            "Trainable params: 15,669\n",
            "Non-trainable params: 0\n",
            "_________________________________________________________________\n"
          ]
        }
      ]
    },
    {
      "cell_type": "code",
      "metadata": {
        "colab": {
          "base_uri": "https://localhost:8080/"
        },
        "id": "1FcoO83R2w6c",
        "outputId": "bc195aa6-8f3b-496e-b95f-2171597696f2"
      },
      "source": [
        "# Hasil pengerjaan point 3.2\n",
        "from tensorflow.keras.optimizers import Adam\n",
        "\n",
        "# Compile model\n",
        "model2.compile(loss='binary_crossentropy',\n",
        "              optimizer=Adam(lr=0.0001),\n",
        "              metrics=['acc'])\n",
        "H2 = model2.fit(x_train, y_train, batch_size=32, epochs=10, validation_data=(x_val, y_val))"
      ],
      "execution_count": 24,
      "outputs": [
        {
          "output_type": "stream",
          "name": "stdout",
          "text": [
            "Epoch 1/10\n"
          ]
        },
        {
          "output_type": "stream",
          "name": "stderr",
          "text": [
            "/usr/local/lib/python3.7/dist-packages/keras/optimizer_v2/optimizer_v2.py:356: UserWarning: The `lr` argument is deprecated, use `learning_rate` instead.\n",
            "  \"The `lr` argument is deprecated, use `learning_rate` instead.\")\n"
          ]
        },
        {
          "output_type": "stream",
          "name": "stdout",
          "text": [
            "603/603 [==============================] - 183s 302ms/step - loss: 0.6852 - acc: 0.5915 - val_loss: 0.6704 - val_acc: 0.5983\n",
            "Epoch 2/10\n",
            "603/603 [==============================] - 181s 301ms/step - loss: 0.6511 - acc: 0.6257 - val_loss: 0.6380 - val_acc: 0.6543\n",
            "Epoch 3/10\n",
            "603/603 [==============================] - 182s 302ms/step - loss: 0.6293 - acc: 0.6537 - val_loss: 0.6263 - val_acc: 0.6593\n",
            "Epoch 4/10\n",
            "603/603 [==============================] - 182s 302ms/step - loss: 0.6208 - acc: 0.6596 - val_loss: 0.6357 - val_acc: 0.6456\n",
            "Epoch 5/10\n",
            "603/603 [==============================] - 182s 301ms/step - loss: 0.6164 - acc: 0.6668 - val_loss: 0.6174 - val_acc: 0.6768\n",
            "Epoch 6/10\n",
            "603/603 [==============================] - 182s 302ms/step - loss: 0.6121 - acc: 0.6699 - val_loss: 0.6176 - val_acc: 0.6797\n",
            "Epoch 7/10\n",
            "603/603 [==============================] - 182s 301ms/step - loss: 0.6075 - acc: 0.6744 - val_loss: 0.6088 - val_acc: 0.6851\n",
            "Epoch 8/10\n",
            "603/603 [==============================] - 182s 301ms/step - loss: 0.6025 - acc: 0.6761 - val_loss: 0.6038 - val_acc: 0.6756\n",
            "Epoch 9/10\n",
            "603/603 [==============================] - 182s 301ms/step - loss: 0.5982 - acc: 0.6806 - val_loss: 0.6061 - val_acc: 0.6646\n",
            "Epoch 10/10\n",
            "603/603 [==============================] - 182s 302ms/step - loss: 0.5921 - acc: 0.6892 - val_loss: 0.5905 - val_acc: 0.6864\n"
          ]
        }
      ]
    },
    {
      "cell_type": "code",
      "metadata": {
        "colab": {
          "base_uri": "https://localhost:8080/"
        },
        "id": "uN7LWDvp3XFG",
        "outputId": "2e05b8fa-5b46-488a-8cae-01228eead2fb"
      },
      "source": [
        "# Hasil pengerjaan point 4.2\n",
        "from sklearn.metrics import classification_report\n",
        "\n",
        "pred2 = model2.predict(x_val)\n",
        "labels = (pred2 > 0.5).astype(np.int)\n",
        "\n",
        "print(classification_report(y_val, labels))"
      ],
      "execution_count": 25,
      "outputs": [
        {
          "output_type": "stream",
          "name": "stdout",
          "text": [
            "              precision    recall  f1-score   support\n",
            "\n",
            "           0       0.74      0.58      0.65      4134\n",
            "           1       0.65      0.79      0.72      4134\n",
            "\n",
            "    accuracy                           0.69      8268\n",
            "   macro avg       0.70      0.69      0.68      8268\n",
            "weighted avg       0.70      0.69      0.68      8268\n",
            "\n"
          ]
        }
      ]
    },
    {
      "cell_type": "code",
      "metadata": {
        "colab": {
          "base_uri": "https://localhost:8080/"
        },
        "id": "ZOUsqcfG4a0b",
        "outputId": "e0cef2d0-5e0c-467f-a949-81fc1d7d4c64"
      },
      "source": [
        "MODEL_BASE_PATH = \"model\"\n",
        "PROJECT_NAME = \"medium_project\"\n",
        "SAVE_MODEL_NAME = \"model.h5\"\n",
        "save_model_path = os.path.join(MODEL_BASE_PATH, PROJECT_NAME, SAVE_MODEL_NAME)\n",
        "\n",
        "if os.path.exists(os.path.join(MODEL_BASE_PATH, PROJECT_NAME)) == False:\n",
        "    os.makedirs(os.path.join(MODEL_BASE_PATH, PROJECT_NAME))\n",
        "    \n",
        "print('Saving Model At {}...'.format(save_model_path))\n",
        "model.save(save_model_path,include_optimizer=False)"
      ],
      "execution_count": 26,
      "outputs": [
        {
          "output_type": "stream",
          "name": "stdout",
          "text": [
            "Saving Model At model/medium_project/model.h5...\n"
          ]
        }
      ]
    },
    {
      "cell_type": "code",
      "metadata": {
        "colab": {
          "base_uri": "https://localhost:8080/"
        },
        "id": "AnWCK8l_4a_2",
        "outputId": "1f959ce8-ae6c-43aa-c081-805219aeeedb"
      },
      "source": [
        "MODEL_BASE_PATH = \"model2\"\n",
        "PROJECT_NAME = \"medium_project\"\n",
        "SAVE_MODEL_NAME = \"model2.h5\"\n",
        "save_model_path = os.path.join(MODEL_BASE_PATH, PROJECT_NAME, SAVE_MODEL_NAME)\n",
        "\n",
        "if os.path.exists(os.path.join(MODEL_BASE_PATH, PROJECT_NAME)) == False:\n",
        "    os.makedirs(os.path.join(MODEL_BASE_PATH, PROJECT_NAME))\n",
        "    \n",
        "print('Saving Model At {}...'.format(save_model_path))\n",
        "model.save(save_model_path,include_optimizer=False)"
      ],
      "execution_count": 27,
      "outputs": [
        {
          "output_type": "stream",
          "name": "stdout",
          "text": [
            "Saving Model At model2/medium_project/model2.h5...\n"
          ]
        }
      ]
    }
  ]
}