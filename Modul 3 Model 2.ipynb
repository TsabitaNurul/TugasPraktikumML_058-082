{
  "nbformat": 4,
  "nbformat_minor": 0,
  "metadata": {
    "colab": {
      "name": "Augmentasi_CNN_Model(2).ipynb",
      "provenance": [],
      "collapsed_sections": [],
      "authorship_tag": "ABX9TyOHIJNDAQlJmPkQrGpXmCUS",
      "include_colab_link": true
    },
    "kernelspec": {
      "name": "python3",
      "display_name": "Python 3"
    },
    "language_info": {
      "name": "python"
    },
    "accelerator": "GPU"
  },
  "cells": [
    {
      "cell_type": "markdown",
      "metadata": {
        "id": "view-in-github",
        "colab_type": "text"
      },
      "source": [
        "<a href=\"https://colab.research.google.com/github/TsabitaNurul/TugasPraktikumML_058-082/blob/main/Augmentasi_CNN_Model(2).ipynb\" target=\"_parent\"><img src=\"https://colab.research.google.com/assets/colab-badge.svg\" alt=\"Open In Colab\"/></a>"
      ]
    },
    {
      "cell_type": "code",
      "metadata": {
        "colab": {
          "base_uri": "https://localhost:8080/"
        },
        "id": "ykIfEJypg3ai",
        "outputId": "4999c616-31ca-4287-f119-364f110613f0"
      },
      "source": [
        "from google.colab import drive\n",
        "drive.mount('/content/drive')"
      ],
      "execution_count": 4,
      "outputs": [
        {
          "output_type": "stream",
          "name": "stdout",
          "text": [
            "Mounted at /content/drive\n"
          ]
        }
      ]
    },
    {
      "cell_type": "code",
      "metadata": {
        "id": "bAarTsK1hbjR"
      },
      "source": [
        "# Definisikan path kaggle json\n",
        "# Sesuaikan dengan path anda\n",
        "import os\n",
        "os.environ['KAGGLE_CONFIG_DIR'] = \"/content/drive/MyDrive/PMesin\""
      ],
      "execution_count": 5,
      "outputs": []
    },
    {
      "cell_type": "code",
      "metadata": {
        "colab": {
          "base_uri": "https://localhost:8080/"
        },
        "id": "JaHHiKQLhbpV",
        "outputId": "4feeab5b-142b-4c6e-e7ba-6eb1c4200ea4"
      },
      "source": [
        "# Ubah lokasi direktori kerja\n",
        "# Sesuaikan dengan path anda\n",
        "%cd /content/drive/MyDrive/PMesin"
      ],
      "execution_count": 6,
      "outputs": [
        {
          "output_type": "stream",
          "name": "stdout",
          "text": [
            "/content/drive/MyDrive/PMesin\n"
          ]
        }
      ]
    },
    {
      "cell_type": "code",
      "metadata": {
        "colab": {
          "base_uri": "https://localhost:8080/"
        },
        "id": "Og3wmvp3hvCe",
        "outputId": "7a02c78a-0f37-40d0-ff33-e75c8d4faafa"
      },
      "source": [
        "!ls"
      ],
      "execution_count": 7,
      "outputs": [
        {
          "output_type": "stream",
          "name": "stdout",
          "text": [
            " cell_images   dataset\t'kaggle (1).json'   kaggle.json   test\t train\t valid\n"
          ]
        }
      ]
    },
    {
      "cell_type": "code",
      "metadata": {
        "colab": {
          "base_uri": "https://localhost:8080/"
        },
        "id": "tLHqeO4RhvNc",
        "outputId": "7154cdd9-05a0-41eb-f227-8461698efae4"
      },
      "source": [
        "!kaggle datasets download -d iarunava/cell-images-for-detecting-malaria"
      ],
      "execution_count": 24,
      "outputs": [
        {
          "output_type": "stream",
          "name": "stdout",
          "text": [
            "Downloading cell-images-for-detecting-malaria.zip to /content/drive/MyDrive/PMesin\n",
            "100% 672M/675M [00:07<00:00, 109MB/s]\n",
            "100% 675M/675M [00:08<00:00, 88.0MB/s]\n"
          ]
        }
      ]
    },
    {
      "cell_type": "code",
      "metadata": {
        "colab": {
          "base_uri": "https://localhost:8080/"
        },
        "id": "hCYeR2yClDv8",
        "outputId": "06c1a48d-5b07-4420-e78a-2e96f8ae29fb"
      },
      "source": [
        "# Cek isi direktori kerja dan memastikan dataset telah berhasil didownload.\n",
        "!ls"
      ],
      "execution_count": 25,
      "outputs": [
        {
          "output_type": "stream",
          "name": "stdout",
          "text": [
            " cell-images-for-detecting-malaria.zip\t'kaggle (1).json'   kaggle.json\n"
          ]
        }
      ]
    },
    {
      "cell_type": "code",
      "metadata": {
        "id": "z6mraJUGlD8_"
      },
      "source": [
        "# Ekstrak file dataset dan hapus file zip dataset agar tidak memakan banyak tempat.\n",
        "!unzip \\*.zip &> /dev/null && rm *.zip"
      ],
      "execution_count": 26,
      "outputs": []
    },
    {
      "cell_type": "code",
      "metadata": {
        "colab": {
          "base_uri": "https://localhost:8080/"
        },
        "id": "wLrN8sjslLhJ",
        "outputId": "bfd69295-3975-4ebd-c55e-4a48ab9f4325"
      },
      "source": [
        "!ls"
      ],
      "execution_count": 27,
      "outputs": [
        {
          "output_type": "stream",
          "name": "stdout",
          "text": [
            " cell_images  'kaggle (1).json'   kaggle.json\n"
          ]
        }
      ]
    },
    {
      "cell_type": "code",
      "metadata": {
        "id": "MfcvGrRVhbuu"
      },
      "source": [
        "from os import mkdir\n",
        "\n",
        "mkdir('dataset')"
      ],
      "execution_count": 28,
      "outputs": []
    },
    {
      "cell_type": "code",
      "metadata": {
        "colab": {
          "base_uri": "https://localhost:8080/"
        },
        "id": "F6LZQ0S8ldG0",
        "outputId": "871c54a6-6d80-4a7b-9e80-fc27910cf8c8"
      },
      "source": [
        "ls"
      ],
      "execution_count": 15,
      "outputs": [
        {
          "output_type": "stream",
          "name": "stdout",
          "text": [
            " \u001b[0m\u001b[01;34mcell_images\u001b[0m/   \u001b[01;34mdataset\u001b[0m/  'kaggle (1).json'   kaggle.json\n"
          ]
        }
      ]
    },
    {
      "cell_type": "code",
      "metadata": {
        "colab": {
          "base_uri": "https://localhost:8080/",
          "height": 36
        },
        "id": "cKacUEtWldOX",
        "outputId": "3d6fa4b9-1026-40c0-8be1-01dcd6d1e4de"
      },
      "source": [
        "import shutil, sys\n",
        "\n",
        "shutil.move(\"/content/drive/MyDrive/PMesin/cell_images/Parasitized\", \"/content/drive/My Drive/PMesin/dataset\") \n",
        "shutil.move(\"/content/drive/MyDrive/PMesin/cell_images/Uninfected\", \"/content/drive/My Drive/PMesin/dataset\") "
      ],
      "execution_count": 29,
      "outputs": [
        {
          "output_type": "execute_result",
          "data": {
            "application/vnd.google.colaboratory.intrinsic+json": {
              "type": "string"
            },
            "text/plain": [
              "'/content/drive/My Drive/PMesin/dataset/Uninfected'"
            ]
          },
          "metadata": {},
          "execution_count": 29
        }
      ]
    },
    {
      "cell_type": "code",
      "metadata": {
        "id": "oTK5dhcWldYS"
      },
      "source": [
        "import numpy as np\n",
        "import pandas as pd\n",
        "import os\n",
        "from shutil import copyfile\n",
        "\n",
        "TRAIN_DIR = \"/content/drive/My Drive/PMesin/train/\"\n",
        "VALID_DIR =\"/content/drive/My Drive/PMesin/valid/\"\n",
        "TEST_DIR =\"/content/drive/My Drive/PMesin/test/\"\n",
        "\n",
        "os.mkdir(TRAIN_DIR)\n",
        "os.mkdir(VALID_DIR)\n",
        "os.mkdir(TEST_DIR)\n",
        "\n",
        "for label in ['Uninfected', 'Parasitized']:\n",
        "    os.mkdir(TRAIN_DIR+label)\n",
        "    os.mkdir(VALID_DIR+label)\n",
        "    os.mkdir(TEST_DIR+label)"
      ],
      "execution_count": 30,
      "outputs": []
    },
    {
      "cell_type": "code",
      "metadata": {
        "colab": {
          "base_uri": "https://localhost:8080/"
        },
        "id": "wgWnQzNso8ss",
        "outputId": "dd85fe06-9a51-441c-85b4-a4c4e6b6e019"
      },
      "source": [
        "import random\n",
        "\n",
        "def train_valid_test_split(source, train_dir, valid_dir, test_dir,train_size, valid_size, test_size):\n",
        "    # get files\n",
        "    files = []\n",
        "    for filename in os.listdir(source):\n",
        "        file = source + filename\n",
        "        if os.path.getsize(file) > 0:\n",
        "            files.append(filename)\n",
        "    \n",
        "    # train valid split\n",
        "    train_size = int(len(files) * (1-(valid_size + train_size)))\n",
        "    valid_size = int(len(files) * (1-(valid_size + test_size)))\n",
        "    test_size = int(len(files) * (1-train_size))\n",
        "  \n",
        "    # shuffle the dataset\n",
        "    shuffled_files = random.sample(files, len(files))\n",
        "    \n",
        "    train_set = shuffled_files[train_size:valid_size]\n",
        "    valid_set = shuffled_files[valid_size:]\n",
        "    test_set = shuffled_files[:train_size]\n",
        "    \n",
        "    for filename in train_set:\n",
        "        filepath = source + filename\n",
        "        destination = train_dir + filename\n",
        "        copyfile(filepath, destination)\n",
        "        \n",
        "    for filename in valid_set:\n",
        "        filepath = source + filename\n",
        "        destination = valid_dir + filename\n",
        "        copyfile(filepath, destination)\n",
        "    \n",
        "    for filename in test_set:\n",
        "        filepath = source + filename\n",
        "        destination = test_dir + filename\n",
        "        copyfile(filepath, destination)\n",
        "\n",
        "SOURCE = \"/content/drive/MyDrive/PMesin/dataset/\"\n",
        "\n",
        "for label in ['Uninfected', 'Parasitized']:\n",
        "    print(label)\n",
        "    train_valid_test_split(SOURCE+label+'/', TRAIN_DIR +label+'/', VALID_DIR +label+'/', TEST_DIR +label+'/', train_size=0.8, valid_size=0.19, test_size=0.01)\n",
        "    print(len(os.listdir(TRAIN_DIR +label+'/')))\n",
        "    print(len(os.listdir(VALID_DIR +label+'/')))\n",
        "    print(len(os.listdir(TEST_DIR +label+'/')))"
      ],
      "execution_count": 31,
      "outputs": [
        {
          "output_type": "stream",
          "name": "stdout",
          "text": [
            "Uninfected\n",
            "10887\n",
            "2756\n",
            "137\n",
            "Parasitized\n",
            "10887\n",
            "2756\n",
            "137\n"
          ]
        }
      ]
    },
    {
      "cell_type": "code",
      "metadata": {
        "id": "0KwPke7CCsDx"
      },
      "source": [
        "from keras.preprocessing.image import ImageDataGenerator\n",
        "\n",
        "train_generator = ImageDataGenerator(\n",
        "    rescale = 1./255,\n",
        "    horizontal_flip = True,\n",
        "    vertical_flip = True,\n",
        "    rotation_range = 90,\n",
        "    height_shift_range = 0.2,\n",
        "    width_shift_range = 0.2,\n",
        "    zoom_range = 0.2\n",
        ")\n",
        "\n",
        "test_generator = ImageDataGenerator(\n",
        "    rescale = 1./255,\n",
        "    validation_split = 0.7\n",
        ")"
      ],
      "execution_count": 32,
      "outputs": []
    },
    {
      "cell_type": "code",
      "metadata": {
        "colab": {
          "base_uri": "https://localhost:8080/"
        },
        "id": "rzj3lre-5T6l",
        "outputId": "809f96af-1e06-414f-e81b-c11ef7b6e71c"
      },
      "source": [
        "train_images = train_generator.flow_from_directory(\n",
        "    TRAIN_DIR,\n",
        "    target_size=(100, 100),\n",
        "    color_mode='rgb',\n",
        "    class_mode='categorical',\n",
        "    batch_size=32,\n",
        "    shuffle=True,\n",
        "    seed=42\n",
        ")\n",
        "val_images = test_generator.flow_from_directory(\n",
        "    VALID_DIR,\n",
        "    target_size=(100, 100),\n",
        "    color_mode='rgb',\n",
        "    class_mode='categorical',\n",
        "    batch_size=32,\n",
        "    shuffle=True,\n",
        "    seed=42,\n",
        "    subset = 'training'\n",
        ")\n",
        "\n",
        "test_images = test_generator.flow_from_directory(\n",
        "    TEST_DIR,\n",
        "    target_size=(100, 100),\n",
        "    color_mode='rgb',\n",
        "    class_mode='categorical',\n",
        "    batch_size=32,\n",
        "    shuffle=False,\n",
        "    seed=42,\n",
        "    subset = 'validation'\n",
        ")"
      ],
      "execution_count": 33,
      "outputs": [
        {
          "output_type": "stream",
          "name": "stdout",
          "text": [
            "Found 21772 images belonging to 2 classes.\n",
            "Found 1654 images belonging to 2 classes.\n",
            "Found 190 images belonging to 2 classes.\n"
          ]
        }
      ]
    },
    {
      "cell_type": "code",
      "metadata": {
        "id": "Lj8fbz1rz9TZ"
      },
      "source": [
        "# TULIS KODE ANDA DISINI\n",
        "import tensorflow as tf\n",
        "from tensorflow.keras.models import Sequential, load_model\n",
        "from tensorflow.keras.layers import Dense, Conv2D, AveragePooling2D, Flatten, BatchNormalization, Dropout\n",
        "model = tf.keras.models.Sequential([\n",
        "    tf.keras.layers.Conv2D(16, (3, 3), activation='relu', input_shape=(100, 100, 3)),\n",
        "    tf.keras.layers.AveragePooling2D(2, 2),\n",
        "    tf.keras.layers.Dropout(0.2),\n",
        "    tf.keras.layers.BatchNormalization(),\n",
        "    tf.keras.layers.Conv2D(16, (3, 3), activation='relu'),\n",
        "    tf.keras.layers.AveragePooling2D(2, 2),\n",
        "    tf.keras.layers.Dropout(0.2),\n",
        "    tf.keras.layers.BatchNormalization(),\n",
        "    tf.keras.layers.Conv2D(32, (3, 3), activation='relu'),\n",
        "    tf.keras.layers.AveragePooling2D(2, 2),\n",
        "    tf.keras.layers.Dropout(0.2),\n",
        "    tf.keras.layers.BatchNormalization(),\n",
        "    tf.keras.layers.Flatten(),\n",
        "    tf.keras.layers.Dense(64, activation='relu'),\n",
        "    tf.keras.layers.Dropout(0.2),\n",
        "    tf.keras.layers.BatchNormalization(),\n",
        "    tf.keras.layers.Dense(2, activation='softmax')\n",
        "])"
      ],
      "execution_count": 34,
      "outputs": []
    },
    {
      "cell_type": "code",
      "metadata": {
        "colab": {
          "base_uri": "https://localhost:8080/"
        },
        "id": "QTUb6vpW0LSV",
        "outputId": "6979a206-97f9-47d0-b1b8-63d4e302ee8d"
      },
      "source": [
        "# Print model summary\n",
        "print(model.summary())"
      ],
      "execution_count": 35,
      "outputs": [
        {
          "output_type": "stream",
          "name": "stdout",
          "text": [
            "Model: \"sequential\"\n",
            "_________________________________________________________________\n",
            " Layer (type)                Output Shape              Param #   \n",
            "=================================================================\n",
            " conv2d (Conv2D)             (None, 98, 98, 16)        448       \n",
            "                                                                 \n",
            " average_pooling2d (AverageP  (None, 49, 49, 16)       0         \n",
            " ooling2D)                                                       \n",
            "                                                                 \n",
            " dropout (Dropout)           (None, 49, 49, 16)        0         \n",
            "                                                                 \n",
            " batch_normalization (BatchN  (None, 49, 49, 16)       64        \n",
            " ormalization)                                                   \n",
            "                                                                 \n",
            " conv2d_1 (Conv2D)           (None, 47, 47, 16)        2320      \n",
            "                                                                 \n",
            " average_pooling2d_1 (Averag  (None, 23, 23, 16)       0         \n",
            " ePooling2D)                                                     \n",
            "                                                                 \n",
            " dropout_1 (Dropout)         (None, 23, 23, 16)        0         \n",
            "                                                                 \n",
            " batch_normalization_1 (Batc  (None, 23, 23, 16)       64        \n",
            " hNormalization)                                                 \n",
            "                                                                 \n",
            " conv2d_2 (Conv2D)           (None, 21, 21, 32)        4640      \n",
            "                                                                 \n",
            " average_pooling2d_2 (Averag  (None, 10, 10, 32)       0         \n",
            " ePooling2D)                                                     \n",
            "                                                                 \n",
            " dropout_2 (Dropout)         (None, 10, 10, 32)        0         \n",
            "                                                                 \n",
            " batch_normalization_2 (Batc  (None, 10, 10, 32)       128       \n",
            " hNormalization)                                                 \n",
            "                                                                 \n",
            " flatten (Flatten)           (None, 3200)              0         \n",
            "                                                                 \n",
            " dense (Dense)               (None, 64)                204864    \n",
            "                                                                 \n",
            " dropout_3 (Dropout)         (None, 64)                0         \n",
            "                                                                 \n",
            " batch_normalization_3 (Batc  (None, 64)               256       \n",
            " hNormalization)                                                 \n",
            "                                                                 \n",
            " dense_1 (Dense)             (None, 2)                 130       \n",
            "                                                                 \n",
            "=================================================================\n",
            "Total params: 212,914\n",
            "Trainable params: 212,658\n",
            "Non-trainable params: 256\n",
            "_________________________________________________________________\n",
            "None\n"
          ]
        }
      ]
    },
    {
      "cell_type": "code",
      "metadata": {
        "colab": {
          "base_uri": "https://localhost:8080/"
        },
        "id": "8-Q4Xeug0Ozk",
        "outputId": "b6b58994-4f4a-4261-9bac-46710885077b"
      },
      "source": [
        "# Compile model\n",
        "from tensorflow.keras.optimizers import Adam\n",
        "\n",
        "model.compile(optimizer=Adam(lr=0.0001), \n",
        "              loss='categorical_crossentropy', \n",
        "              metrics=['accuracy'])"
      ],
      "execution_count": 36,
      "outputs": [
        {
          "output_type": "stream",
          "name": "stderr",
          "text": [
            "/usr/local/lib/python3.7/dist-packages/keras/optimizer_v2/adam.py:105: UserWarning: The `lr` argument is deprecated, use `learning_rate` instead.\n",
            "  super(Adam, self).__init__(name, **kwargs)\n"
          ]
        }
      ]
    },
    {
      "cell_type": "code",
      "metadata": {
        "colab": {
          "base_uri": "https://localhost:8080/"
        },
        "id": "UEq_hz0L0cNS",
        "outputId": "e8498671-faef-489b-9f0c-2d8b2b4e5a16"
      },
      "source": [
        "history = model.fit(\n",
        "    train_images,\n",
        "    validation_data = val_images,\n",
        "    epochs = 100,\n",
        "    callbacks = [\n",
        "        tf.keras.callbacks.ReduceLROnPlateau(\n",
        "            monitor='val_loss',\n",
        "            factor=0.5,\n",
        "            patience=40,\n",
        "            verbose=1, \n",
        "            mode='auto',\n",
        "            cooldown=1\n",
        "        )\n",
        "    ]\n",
        ")"
      ],
      "execution_count": 37,
      "outputs": [
        {
          "output_type": "stream",
          "name": "stdout",
          "text": [
            "Epoch 1/100\n",
            "681/681 [==============================] - 159s 188ms/step - loss: 0.8332 - accuracy: 0.5755 - val_loss: 0.6516 - val_accuracy: 0.6542 - lr: 1.0000e-04\n",
            "Epoch 2/100\n",
            "681/681 [==============================] - 124s 182ms/step - loss: 0.7112 - accuracy: 0.6130 - val_loss: 0.6090 - val_accuracy: 0.6989 - lr: 1.0000e-04\n",
            "Epoch 3/100\n",
            "681/681 [==============================] - 122s 179ms/step - loss: 0.6645 - accuracy: 0.6422 - val_loss: 0.5390 - val_accuracy: 0.7316 - lr: 1.0000e-04\n",
            "Epoch 4/100\n",
            "681/681 [==============================] - 122s 179ms/step - loss: 0.6152 - accuracy: 0.6811 - val_loss: 0.5202 - val_accuracy: 0.7310 - lr: 1.0000e-04\n",
            "Epoch 5/100\n",
            "681/681 [==============================] - 124s 182ms/step - loss: 0.5222 - accuracy: 0.7493 - val_loss: 0.5421 - val_accuracy: 0.7551 - lr: 1.0000e-04\n",
            "Epoch 6/100\n",
            "681/681 [==============================] - 122s 180ms/step - loss: 0.4551 - accuracy: 0.7963 - val_loss: 0.5798 - val_accuracy: 0.7751 - lr: 1.0000e-04\n",
            "Epoch 7/100\n",
            "681/681 [==============================] - 127s 187ms/step - loss: 0.4222 - accuracy: 0.8132 - val_loss: 0.5725 - val_accuracy: 0.8126 - lr: 1.0000e-04\n",
            "Epoch 8/100\n",
            "681/681 [==============================] - 129s 190ms/step - loss: 0.3976 - accuracy: 0.8298 - val_loss: 0.4262 - val_accuracy: 0.8301 - lr: 1.0000e-04\n",
            "Epoch 9/100\n",
            "681/681 [==============================] - 129s 189ms/step - loss: 0.3771 - accuracy: 0.8404 - val_loss: 0.4741 - val_accuracy: 0.8325 - lr: 1.0000e-04\n",
            "Epoch 10/100\n",
            "681/681 [==============================] - 128s 188ms/step - loss: 0.3534 - accuracy: 0.8558 - val_loss: 0.4578 - val_accuracy: 0.8368 - lr: 1.0000e-04\n",
            "Epoch 11/100\n",
            "681/681 [==============================] - 127s 186ms/step - loss: 0.3399 - accuracy: 0.8595 - val_loss: 0.4774 - val_accuracy: 0.8283 - lr: 1.0000e-04\n",
            "Epoch 12/100\n",
            "681/681 [==============================] - 139s 203ms/step - loss: 0.3170 - accuracy: 0.8755 - val_loss: 0.4304 - val_accuracy: 0.8519 - lr: 1.0000e-04\n",
            "Epoch 13/100\n",
            "681/681 [==============================] - 127s 186ms/step - loss: 0.3215 - accuracy: 0.8747 - val_loss: 0.3340 - val_accuracy: 0.8755 - lr: 1.0000e-04\n",
            "Epoch 14/100\n",
            "681/681 [==============================] - 127s 187ms/step - loss: 0.3013 - accuracy: 0.8866 - val_loss: 0.3524 - val_accuracy: 0.8761 - lr: 1.0000e-04\n",
            "Epoch 15/100\n",
            "681/681 [==============================] - 127s 186ms/step - loss: 0.3050 - accuracy: 0.8827 - val_loss: 0.2865 - val_accuracy: 0.8924 - lr: 1.0000e-04\n",
            "Epoch 16/100\n",
            "681/681 [==============================] - 123s 180ms/step - loss: 0.2905 - accuracy: 0.8888 - val_loss: 0.2437 - val_accuracy: 0.9141 - lr: 1.0000e-04\n",
            "Epoch 17/100\n",
            "681/681 [==============================] - 125s 183ms/step - loss: 0.2937 - accuracy: 0.8906 - val_loss: 0.3073 - val_accuracy: 0.9057 - lr: 1.0000e-04\n",
            "Epoch 18/100\n",
            "681/681 [==============================] - 128s 188ms/step - loss: 0.2851 - accuracy: 0.8930 - val_loss: 0.2650 - val_accuracy: 0.9129 - lr: 1.0000e-04\n",
            "Epoch 19/100\n",
            "681/681 [==============================] - 131s 192ms/step - loss: 0.2775 - accuracy: 0.8972 - val_loss: 0.3107 - val_accuracy: 0.9015 - lr: 1.0000e-04\n",
            "Epoch 20/100\n",
            "681/681 [==============================] - 131s 193ms/step - loss: 0.2744 - accuracy: 0.9014 - val_loss: 0.2861 - val_accuracy: 0.9057 - lr: 1.0000e-04\n",
            "Epoch 21/100\n",
            "681/681 [==============================] - 129s 189ms/step - loss: 0.2721 - accuracy: 0.9001 - val_loss: 0.2359 - val_accuracy: 0.9184 - lr: 1.0000e-04\n",
            "Epoch 22/100\n",
            "681/681 [==============================] - 128s 188ms/step - loss: 0.2623 - accuracy: 0.9039 - val_loss: 0.2197 - val_accuracy: 0.9359 - lr: 1.0000e-04\n",
            "Epoch 23/100\n",
            "681/681 [==============================] - 126s 186ms/step - loss: 0.2602 - accuracy: 0.9034 - val_loss: 0.3219 - val_accuracy: 0.9063 - lr: 1.0000e-04\n",
            "Epoch 24/100\n",
            "681/681 [==============================] - 130s 191ms/step - loss: 0.2607 - accuracy: 0.9050 - val_loss: 0.3116 - val_accuracy: 0.9063 - lr: 1.0000e-04\n",
            "Epoch 25/100\n",
            "681/681 [==============================] - 128s 188ms/step - loss: 0.2595 - accuracy: 0.9053 - val_loss: 0.2865 - val_accuracy: 0.9111 - lr: 1.0000e-04\n",
            "Epoch 26/100\n",
            "681/681 [==============================] - 129s 189ms/step - loss: 0.2540 - accuracy: 0.9090 - val_loss: 0.3352 - val_accuracy: 0.9051 - lr: 1.0000e-04\n",
            "Epoch 27/100\n",
            "681/681 [==============================] - 126s 185ms/step - loss: 0.2547 - accuracy: 0.9094 - val_loss: 0.2648 - val_accuracy: 0.9202 - lr: 1.0000e-04\n",
            "Epoch 28/100\n",
            "681/681 [==============================] - 126s 184ms/step - loss: 0.2526 - accuracy: 0.9099 - val_loss: 0.2391 - val_accuracy: 0.9214 - lr: 1.0000e-04\n",
            "Epoch 29/100\n",
            "681/681 [==============================] - 131s 193ms/step - loss: 0.2588 - accuracy: 0.9061 - val_loss: 0.2459 - val_accuracy: 0.9250 - lr: 1.0000e-04\n",
            "Epoch 30/100\n",
            "681/681 [==============================] - 128s 187ms/step - loss: 0.2541 - accuracy: 0.9081 - val_loss: 0.3635 - val_accuracy: 0.8948 - lr: 1.0000e-04\n",
            "Epoch 31/100\n",
            "681/681 [==============================] - 130s 190ms/step - loss: 0.2501 - accuracy: 0.9104 - val_loss: 0.3000 - val_accuracy: 0.9154 - lr: 1.0000e-04\n",
            "Epoch 32/100\n",
            "681/681 [==============================] - 127s 187ms/step - loss: 0.2481 - accuracy: 0.9092 - val_loss: 0.2941 - val_accuracy: 0.9117 - lr: 1.0000e-04\n",
            "Epoch 33/100\n",
            "681/681 [==============================] - 131s 192ms/step - loss: 0.2467 - accuracy: 0.9098 - val_loss: 0.2607 - val_accuracy: 0.9190 - lr: 1.0000e-04\n",
            "Epoch 34/100\n",
            "681/681 [==============================] - 133s 195ms/step - loss: 0.2481 - accuracy: 0.9109 - val_loss: 0.2314 - val_accuracy: 0.9238 - lr: 1.0000e-04\n",
            "Epoch 35/100\n",
            "681/681 [==============================] - 140s 205ms/step - loss: 0.2475 - accuracy: 0.9106 - val_loss: 0.2705 - val_accuracy: 0.9166 - lr: 1.0000e-04\n",
            "Epoch 36/100\n",
            "681/681 [==============================] - 132s 194ms/step - loss: 0.2457 - accuracy: 0.9107 - val_loss: 0.3664 - val_accuracy: 0.9015 - lr: 1.0000e-04\n",
            "Epoch 37/100\n",
            "681/681 [==============================] - 132s 194ms/step - loss: 0.2411 - accuracy: 0.9118 - val_loss: 0.1967 - val_accuracy: 0.9353 - lr: 1.0000e-04\n",
            "Epoch 38/100\n",
            "681/681 [==============================] - 132s 193ms/step - loss: 0.2414 - accuracy: 0.9134 - val_loss: 0.2111 - val_accuracy: 0.9293 - lr: 1.0000e-04\n",
            "Epoch 39/100\n",
            "681/681 [==============================] - 134s 197ms/step - loss: 0.2418 - accuracy: 0.9133 - val_loss: 0.1942 - val_accuracy: 0.9329 - lr: 1.0000e-04\n",
            "Epoch 40/100\n",
            "681/681 [==============================] - 130s 191ms/step - loss: 0.2408 - accuracy: 0.9145 - val_loss: 0.2093 - val_accuracy: 0.9287 - lr: 1.0000e-04\n",
            "Epoch 41/100\n",
            "681/681 [==============================] - 132s 193ms/step - loss: 0.2357 - accuracy: 0.9169 - val_loss: 0.2163 - val_accuracy: 0.9281 - lr: 1.0000e-04\n",
            "Epoch 42/100\n",
            "681/681 [==============================] - 131s 193ms/step - loss: 0.2378 - accuracy: 0.9129 - val_loss: 0.2636 - val_accuracy: 0.9214 - lr: 1.0000e-04\n",
            "Epoch 43/100\n",
            "681/681 [==============================] - 131s 193ms/step - loss: 0.2424 - accuracy: 0.9138 - val_loss: 0.2174 - val_accuracy: 0.9274 - lr: 1.0000e-04\n",
            "Epoch 44/100\n",
            "681/681 [==============================] - 131s 192ms/step - loss: 0.2354 - accuracy: 0.9154 - val_loss: 0.2676 - val_accuracy: 0.9202 - lr: 1.0000e-04\n",
            "Epoch 45/100\n",
            "681/681 [==============================] - 132s 194ms/step - loss: 0.2394 - accuracy: 0.9141 - val_loss: 0.1819 - val_accuracy: 0.9383 - lr: 1.0000e-04\n",
            "Epoch 46/100\n",
            "681/681 [==============================] - 132s 194ms/step - loss: 0.2368 - accuracy: 0.9156 - val_loss: 0.2025 - val_accuracy: 0.9293 - lr: 1.0000e-04\n",
            "Epoch 47/100\n",
            "681/681 [==============================] - 131s 192ms/step - loss: 0.2318 - accuracy: 0.9182 - val_loss: 0.1971 - val_accuracy: 0.9341 - lr: 1.0000e-04\n",
            "Epoch 48/100\n",
            "681/681 [==============================] - 130s 190ms/step - loss: 0.2320 - accuracy: 0.9184 - val_loss: 0.1885 - val_accuracy: 0.9353 - lr: 1.0000e-04\n",
            "Epoch 49/100\n",
            "681/681 [==============================] - 129s 190ms/step - loss: 0.2341 - accuracy: 0.9164 - val_loss: 0.1800 - val_accuracy: 0.9395 - lr: 1.0000e-04\n",
            "Epoch 50/100\n",
            "681/681 [==============================] - 132s 194ms/step - loss: 0.2315 - accuracy: 0.9167 - val_loss: 0.1580 - val_accuracy: 0.9438 - lr: 1.0000e-04\n",
            "Epoch 51/100\n",
            "681/681 [==============================] - 132s 194ms/step - loss: 0.2360 - accuracy: 0.9141 - val_loss: 0.1550 - val_accuracy: 0.9468 - lr: 1.0000e-04\n",
            "Epoch 52/100\n",
            "681/681 [==============================] - 132s 194ms/step - loss: 0.2297 - accuracy: 0.9177 - val_loss: 0.1973 - val_accuracy: 0.9383 - lr: 1.0000e-04\n",
            "Epoch 53/100\n",
            "681/681 [==============================] - 132s 194ms/step - loss: 0.2295 - accuracy: 0.9196 - val_loss: 0.1700 - val_accuracy: 0.9426 - lr: 1.0000e-04\n",
            "Epoch 54/100\n",
            "681/681 [==============================] - 132s 194ms/step - loss: 0.2317 - accuracy: 0.9169 - val_loss: 0.1665 - val_accuracy: 0.9450 - lr: 1.0000e-04\n",
            "Epoch 55/100\n",
            "681/681 [==============================] - 131s 193ms/step - loss: 0.2239 - accuracy: 0.9201 - val_loss: 0.1670 - val_accuracy: 0.9456 - lr: 1.0000e-04\n",
            "Epoch 56/100\n",
            "681/681 [==============================] - 132s 194ms/step - loss: 0.2303 - accuracy: 0.9175 - val_loss: 0.1609 - val_accuracy: 0.9456 - lr: 1.0000e-04\n",
            "Epoch 57/100\n",
            "681/681 [==============================] - 133s 195ms/step - loss: 0.2230 - accuracy: 0.9213 - val_loss: 0.1542 - val_accuracy: 0.9468 - lr: 1.0000e-04\n",
            "Epoch 58/100\n",
            "681/681 [==============================] - 132s 194ms/step - loss: 0.2256 - accuracy: 0.9198 - val_loss: 0.1526 - val_accuracy: 0.9456 - lr: 1.0000e-04\n",
            "Epoch 59/100\n",
            "681/681 [==============================] - 126s 186ms/step - loss: 0.2228 - accuracy: 0.9227 - val_loss: 0.1426 - val_accuracy: 0.9516 - lr: 1.0000e-04\n",
            "Epoch 60/100\n",
            "681/681 [==============================] - 130s 191ms/step - loss: 0.2249 - accuracy: 0.9215 - val_loss: 0.1554 - val_accuracy: 0.9462 - lr: 1.0000e-04\n",
            "Epoch 61/100\n",
            "681/681 [==============================] - 130s 190ms/step - loss: 0.2191 - accuracy: 0.9231 - val_loss: 0.1581 - val_accuracy: 0.9432 - lr: 1.0000e-04\n",
            "Epoch 62/100\n",
            "681/681 [==============================] - 132s 194ms/step - loss: 0.2233 - accuracy: 0.9208 - val_loss: 0.1482 - val_accuracy: 0.9498 - lr: 1.0000e-04\n",
            "Epoch 63/100\n",
            "681/681 [==============================] - 136s 200ms/step - loss: 0.2318 - accuracy: 0.9169 - val_loss: 0.1497 - val_accuracy: 0.9486 - lr: 1.0000e-04\n",
            "Epoch 64/100\n",
            "681/681 [==============================] - 135s 199ms/step - loss: 0.2257 - accuracy: 0.9189 - val_loss: 0.1635 - val_accuracy: 0.9474 - lr: 1.0000e-04\n",
            "Epoch 65/100\n",
            "681/681 [==============================] - 132s 193ms/step - loss: 0.2200 - accuracy: 0.9215 - val_loss: 0.1507 - val_accuracy: 0.9516 - lr: 1.0000e-04\n",
            "Epoch 66/100\n",
            "681/681 [==============================] - 131s 193ms/step - loss: 0.2195 - accuracy: 0.9203 - val_loss: 0.1518 - val_accuracy: 0.9474 - lr: 1.0000e-04\n",
            "Epoch 67/100\n",
            "681/681 [==============================] - 130s 191ms/step - loss: 0.2187 - accuracy: 0.9201 - val_loss: 0.1542 - val_accuracy: 0.9480 - lr: 1.0000e-04\n",
            "Epoch 68/100\n",
            "681/681 [==============================] - 134s 197ms/step - loss: 0.2246 - accuracy: 0.9187 - val_loss: 0.1594 - val_accuracy: 0.9456 - lr: 1.0000e-04\n",
            "Epoch 69/100\n",
            "681/681 [==============================] - 135s 198ms/step - loss: 0.2230 - accuracy: 0.9213 - val_loss: 0.1498 - val_accuracy: 0.9480 - lr: 1.0000e-04\n",
            "Epoch 70/100\n",
            "681/681 [==============================] - 130s 191ms/step - loss: 0.2178 - accuracy: 0.9227 - val_loss: 0.1474 - val_accuracy: 0.9522 - lr: 1.0000e-04\n",
            "Epoch 71/100\n",
            "681/681 [==============================] - 134s 197ms/step - loss: 0.2269 - accuracy: 0.9181 - val_loss: 0.1488 - val_accuracy: 0.9498 - lr: 1.0000e-04\n",
            "Epoch 72/100\n",
            "681/681 [==============================] - 132s 194ms/step - loss: 0.2190 - accuracy: 0.9237 - val_loss: 0.1659 - val_accuracy: 0.9462 - lr: 1.0000e-04\n",
            "Epoch 73/100\n",
            "681/681 [==============================] - 135s 198ms/step - loss: 0.2176 - accuracy: 0.9238 - val_loss: 0.1539 - val_accuracy: 0.9541 - lr: 1.0000e-04\n",
            "Epoch 74/100\n",
            "681/681 [==============================] - 137s 201ms/step - loss: 0.2217 - accuracy: 0.9221 - val_loss: 0.1524 - val_accuracy: 0.9486 - lr: 1.0000e-04\n",
            "Epoch 75/100\n",
            "681/681 [==============================] - 134s 197ms/step - loss: 0.2167 - accuracy: 0.9227 - val_loss: 0.1457 - val_accuracy: 0.9516 - lr: 1.0000e-04\n",
            "Epoch 76/100\n",
            "681/681 [==============================] - 133s 196ms/step - loss: 0.2184 - accuracy: 0.9225 - val_loss: 0.1472 - val_accuracy: 0.9547 - lr: 1.0000e-04\n",
            "Epoch 77/100\n",
            "681/681 [==============================] - 132s 194ms/step - loss: 0.2175 - accuracy: 0.9221 - val_loss: 0.1638 - val_accuracy: 0.9504 - lr: 1.0000e-04\n",
            "Epoch 78/100\n",
            "681/681 [==============================] - 132s 194ms/step - loss: 0.2190 - accuracy: 0.9226 - val_loss: 0.1608 - val_accuracy: 0.9438 - lr: 1.0000e-04\n",
            "Epoch 79/100\n",
            "681/681 [==============================] - 135s 198ms/step - loss: 0.2156 - accuracy: 0.9241 - val_loss: 0.1515 - val_accuracy: 0.9498 - lr: 1.0000e-04\n",
            "Epoch 80/100\n",
            "681/681 [==============================] - 134s 197ms/step - loss: 0.2141 - accuracy: 0.9229 - val_loss: 0.1441 - val_accuracy: 0.9498 - lr: 1.0000e-04\n",
            "Epoch 81/100\n",
            "681/681 [==============================] - 133s 195ms/step - loss: 0.2163 - accuracy: 0.9228 - val_loss: 0.1555 - val_accuracy: 0.9510 - lr: 1.0000e-04\n",
            "Epoch 82/100\n",
            "681/681 [==============================] - 131s 192ms/step - loss: 0.2161 - accuracy: 0.9234 - val_loss: 0.1513 - val_accuracy: 0.9534 - lr: 1.0000e-04\n",
            "Epoch 83/100\n",
            "681/681 [==============================] - 131s 192ms/step - loss: 0.2173 - accuracy: 0.9231 - val_loss: 0.1478 - val_accuracy: 0.9468 - lr: 1.0000e-04\n",
            "Epoch 84/100\n",
            "681/681 [==============================] - 133s 196ms/step - loss: 0.2212 - accuracy: 0.9216 - val_loss: 0.1565 - val_accuracy: 0.9498 - lr: 1.0000e-04\n",
            "Epoch 85/100\n",
            "681/681 [==============================] - 130s 191ms/step - loss: 0.2157 - accuracy: 0.9232 - val_loss: 0.1845 - val_accuracy: 0.9438 - lr: 1.0000e-04\n",
            "Epoch 86/100\n",
            "681/681 [==============================] - 127s 186ms/step - loss: 0.2141 - accuracy: 0.9243 - val_loss: 0.1420 - val_accuracy: 0.9541 - lr: 1.0000e-04\n",
            "Epoch 87/100\n",
            "681/681 [==============================] - 128s 188ms/step - loss: 0.2139 - accuracy: 0.9220 - val_loss: 0.1449 - val_accuracy: 0.9528 - lr: 1.0000e-04\n",
            "Epoch 88/100\n",
            "681/681 [==============================] - 134s 197ms/step - loss: 0.2177 - accuracy: 0.9225 - val_loss: 0.1496 - val_accuracy: 0.9516 - lr: 1.0000e-04\n",
            "Epoch 89/100\n",
            "681/681 [==============================] - 128s 189ms/step - loss: 0.2193 - accuracy: 0.9214 - val_loss: 0.1533 - val_accuracy: 0.9516 - lr: 1.0000e-04\n",
            "Epoch 90/100\n",
            "681/681 [==============================] - 130s 191ms/step - loss: 0.2135 - accuracy: 0.9233 - val_loss: 0.1439 - val_accuracy: 0.9541 - lr: 1.0000e-04\n",
            "Epoch 91/100\n",
            "681/681 [==============================] - 130s 191ms/step - loss: 0.2163 - accuracy: 0.9233 - val_loss: 0.1451 - val_accuracy: 0.9528 - lr: 1.0000e-04\n",
            "Epoch 92/100\n",
            "681/681 [==============================] - 131s 192ms/step - loss: 0.2141 - accuracy: 0.9235 - val_loss: 0.1469 - val_accuracy: 0.9516 - lr: 1.0000e-04\n",
            "Epoch 93/100\n",
            "681/681 [==============================] - 128s 188ms/step - loss: 0.2114 - accuracy: 0.9257 - val_loss: 0.1487 - val_accuracy: 0.9547 - lr: 1.0000e-04\n",
            "Epoch 94/100\n",
            "681/681 [==============================] - 129s 190ms/step - loss: 0.2108 - accuracy: 0.9259 - val_loss: 0.2768 - val_accuracy: 0.9190 - lr: 1.0000e-04\n",
            "Epoch 95/100\n",
            "681/681 [==============================] - 129s 189ms/step - loss: 0.2104 - accuracy: 0.9252 - val_loss: 0.1446 - val_accuracy: 0.9486 - lr: 1.0000e-04\n",
            "Epoch 96/100\n",
            "681/681 [==============================] - 127s 186ms/step - loss: 0.2147 - accuracy: 0.9222 - val_loss: 0.1549 - val_accuracy: 0.9504 - lr: 1.0000e-04\n",
            "Epoch 97/100\n",
            "681/681 [==============================] - 128s 188ms/step - loss: 0.2133 - accuracy: 0.9229 - val_loss: 0.2226 - val_accuracy: 0.9323 - lr: 1.0000e-04\n",
            "Epoch 98/100\n",
            "681/681 [==============================] - 128s 188ms/step - loss: 0.2158 - accuracy: 0.9225 - val_loss: 0.1465 - val_accuracy: 0.9528 - lr: 1.0000e-04\n",
            "Epoch 99/100\n",
            "681/681 [==============================] - 128s 188ms/step - loss: 0.2075 - accuracy: 0.9258 - val_loss: 0.1510 - val_accuracy: 0.9486 - lr: 1.0000e-04\n",
            "Epoch 100/100\n",
            "681/681 [==============================] - 129s 189ms/step - loss: 0.2150 - accuracy: 0.9217 - val_loss: 0.1496 - val_accuracy: 0.9492 - lr: 1.0000e-04\n"
          ]
        }
      ]
    },
    {
      "cell_type": "code",
      "metadata": {
        "id": "jE3e3qQaBpW9"
      },
      "source": [
        "import matplotlib.pyplot as plt\n",
        "def eval_plot(history):\n",
        "\n",
        "  plt.figure(figsize=(14, 5))\n",
        "\n",
        "  # Accuracy plot\n",
        "  plt.subplot(1, 2, 1)\n",
        "  acc = history.history['accuracy']\n",
        "  val_acc = history.history['val_accuracy']\n",
        "  epochs = range(len(acc))\n",
        "  acc_plot, = plt.plot(epochs, acc, 'r')\n",
        "  val_acc_plot, = plt.plot(epochs, val_acc, 'b')\n",
        "  plt.title('Training and Validation Accuracy')\n",
        "  plt.legend([acc_plot, val_acc_plot], ['Training Accuracy', 'Validation Accuracy'])\n",
        "\n",
        "  # Loss plot\n",
        "  plt.subplot(1, 2, 2)\n",
        "  loss = history.history['loss']\n",
        "  val_loss = history.history['val_loss']\n",
        "  epochs = range(len(loss))\n",
        "  loss_plot, = plt.plot(epochs, loss, 'r')\n",
        "  val_loss_plot, = plt.plot(epochs, val_loss, 'b')\n",
        "  plt.title('Training and Validation Loss')\n",
        "  plt.legend([loss_plot, val_loss_plot], ['Training Loss', 'Validation Loss'])"
      ],
      "execution_count": 38,
      "outputs": []
    },
    {
      "cell_type": "code",
      "metadata": {
        "colab": {
          "base_uri": "https://localhost:8080/",
          "height": 336
        },
        "id": "KUibeZPKByOw",
        "outputId": "cc3b4f1e-e89d-4262-f083-b15c8f51558c"
      },
      "source": [
        "eval_plot(history)"
      ],
      "execution_count": 39,
      "outputs": [
        {
          "output_type": "display_data",
          "data": {
            "image/png": "[encoded data removed]",
            "text/plain": [
              "<Figure size 1008x360 with 2 Axes>"
            ]
          },
          "metadata": {
            "needs_background": "light"
          }
        }
      ]
    },
    {
      "cell_type": "code",
      "metadata": {
        "id": "ZV5W1F_SBp6h"
      },
      "source": [
        "from sklearn.metrics import classification_report, confusion_matrix\n",
        "import seaborn as sns\n",
        "\n",
        "def evaluate(model):\n",
        "\n",
        "  valid_generator = train_generator.flow_from_directory(\n",
        "          TRAIN_DIR, \n",
        "          target_size=(100,100), \n",
        "          batch_size=32, \n",
        "          class_mode='categorical',\n",
        "          shuffle = False)\n",
        "\n",
        "  batch_size = 32\n",
        "  num_of_test_samples = len(valid_generator.filenames)\n",
        "\n",
        "  Y_pred = model.predict_generator(valid_generator, num_of_test_samples // batch_size+1)\n",
        "  y_pred = np.argmax(Y_pred, axis=1)\n",
        "\n",
        "  print('\\nConfusion Matrix\\n')\n",
        "  cm = confusion_matrix(valid_generator.classes, y_pred)\n",
        "  plt.figure(figsize=(8, 8))\n",
        "  sns.heatmap(cm, annot=True, fmt='g', vmin=0, cmap='Blues', cbar=False)\n",
        "  plt.xticks(ticks=[0.5, 1.5], labels=['Uninfected', 'Paracitized'])\n",
        "  plt.yticks(ticks=[0.5, 1.5], labels=['Uninfected', 'Paracitized'])\n",
        "  plt.xlabel(\"Predicted\")\n",
        "  plt.ylabel(\"Actual\")\n",
        "  plt.title(\"Confusion Matrix\")\n",
        "  plt.show()\n",
        "\n",
        "  print('\\n\\nClassification Report\\n')\n",
        "  target_names = ['Uninfected', 'Paracitized']\n",
        "  print(classification_report(valid_generator.classes, y_pred, target_names=target_names))"
      ],
      "execution_count": 40,
      "outputs": []
    },
    {
      "cell_type": "code",
      "metadata": {
        "id": "79nE63QXCBBi",
        "colab": {
          "base_uri": "https://localhost:8080/",
          "height": 879
        },
        "outputId": "f5b639ed-54c0-4b28-94a0-126107fe310c"
      },
      "source": [
        "evaluate(model)"
      ],
      "execution_count": 41,
      "outputs": [
        {
          "output_type": "stream",
          "name": "stdout",
          "text": [
            "Found 21772 images belonging to 2 classes.\n"
          ]
        },
        {
          "output_type": "stream",
          "name": "stderr",
          "text": [
            "/usr/local/lib/python3.7/dist-packages/ipykernel_launcher.py:16: UserWarning: `Model.predict_generator` is deprecated and will be removed in a future version. Please use `Model.predict`, which supports generators.\n",
            "  app.launch_new_instance()\n"
          ]
        },
        {
          "output_type": "stream",
          "name": "stdout",
          "text": [
            "\n",
            "Confusion Matrix\n",
            "\n"
          ]
        },
        {
          "output_type": "display_data",
          "data": {
            "image/png": "[encoded data removed]",
            "text/plain": [
              "<Figure size 576x576 with 1 Axes>"
            ]
          },
          "metadata": {
            "needs_background": "light"
          }
        },
        {
          "output_type": "stream",
          "name": "stdout",
          "text": [
            "\n",
            "\n",
            "Classification Report\n",
            "\n",
            "              precision    recall  f1-score   support\n",
            "\n",
            "  Uninfected       0.97      0.88      0.92     10886\n",
            " Paracitized       0.89      0.97      0.93     10886\n",
            "\n",
            "    accuracy                           0.93     21772\n",
            "   macro avg       0.93      0.93      0.93     21772\n",
            "weighted avg       0.93      0.93      0.93     21772\n",
            "\n"
          ]
        }
      ]
    },
    {
      "cell_type": "code",
      "metadata": {
        "id": "J2xnRVHLPS34"
      },
      "source": [
        "# serialize model to JSON\n",
        "model_json = model.to_json()\n",
        "with open(\"model.json\", \"w\") as json_file: json_file.write(model_json)"
      ],
      "execution_count": 42,
      "outputs": []
    },
    {
      "cell_type": "code",
      "metadata": {
        "colab": {
          "base_uri": "https://localhost:8080/"
        },
        "id": "guMNykTAPTpc",
        "outputId": "c9872255-8107-4a46-a10f-bbc81fb386e6"
      },
      "source": [
        "# serialize weights to HDF5\n",
        "model.save_weights(\"model.h5\")\n",
        "print(\"Saved model to disk\")"
      ],
      "execution_count": 43,
      "outputs": [
        {
          "output_type": "stream",
          "name": "stdout",
          "text": [
            "Saved model to disk\n"
          ]
        }
      ]
    }
  ]
}
